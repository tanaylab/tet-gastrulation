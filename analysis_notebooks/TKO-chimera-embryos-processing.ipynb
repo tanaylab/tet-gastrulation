{
 "cells": [
  {
   "cell_type": "markdown",
   "id": "d7e499a7",
   "metadata": {},
   "source": [
    "# TKO chimera processing"
   ]
  },
  {
   "cell_type": "code",
   "execution_count": 1,
   "id": "1906450c",
   "metadata": {
    "tags": [
     "remove_cell"
    ]
   },
   "outputs": [],
   "source": [
    "knitr::opts_knit$set(root.dir = here::here())"
   ]
  },
  {
   "cell_type": "code",
   "execution_count": null,
   "id": "9b595bc0",
   "metadata": {},
   "outputs": [],
   "source": [
    "setwd(here::here())"
   ]
  },
  {
   "cell_type": "code",
   "execution_count": 8,
   "id": "c1e4f1f0",
   "metadata": {},
   "outputs": [],
   "source": [
    "library(\"metacell\")\n",
    "library(\"tgstat\")\n",
    "library(\"tgconfig\")\n",
    "library(\"Matrix\")\n",
    "library(\"dplyr\")"
   ]
  },
  {
   "cell_type": "code",
   "execution_count": 28,
   "id": "d2d7fd89",
   "metadata": {},
   "outputs": [
    {
     "name": "stderr",
     "output_type": "stream",
     "text": [
      "initializing scdb to scrna_db/\n",
      "\n"
     ]
    }
   ],
   "source": [
    "scdb_init(\"scrna_db/\", force_reinit = T)"
   ]
  },
  {
   "cell_type": "code",
   "execution_count": 29,
   "id": "f35eb60e",
   "metadata": {},
   "outputs": [],
   "source": [
    "mat <- scdb_mat(\"tko_chim\")"
   ]
  },
  {
   "cell_type": "markdown",
   "id": "388ebb06",
   "metadata": {},
   "source": [
    "#### Remove cells belonging to E8.5 chimera embryos. Only use chimera embryos from E7.5"
   ]
  },
  {
   "cell_type": "code",
   "execution_count": 5,
   "id": "63b8886e",
   "metadata": {},
   "outputs": [],
   "source": [
    "e85_embryos <- paste0(\"TKO29_\", c(13:19))\n",
    "ig_cells <- colnames(mat@mat)[mat@cell_metadata[colnames(mat@mat), \"embryo\"] %in% e85_embryos]\n",
    "ig_cells <- c(mat@ignore_cells, ig_cells)\n",
    "\n",
    "mat <- scm_ignore_cells(scmat = mat, ig_cells = ig_cells)"
   ]
  },
  {
   "cell_type": "markdown",
   "id": "0c8b020a",
   "metadata": {},
   "source": [
    "#### Remove extraembryonic ectoderm and parietal endoderm cells"
   ]
  },
  {
   "cell_type": "code",
   "execution_count": 6,
   "id": "7c31cac8",
   "metadata": {},
   "outputs": [],
   "source": [
    "source(\"scripts/pipeline/remove_exe_ectoderm_and_parietal_endo_cls.R\")\n",
    "mat <- remove_exe_ectoderm_and_parietal_endoderm(mat_query = mat)\n",
    "scdb_add_mat(id = \"tko_chim\", mat = mat)"
   ]
  },
  {
   "cell_type": "markdown",
   "id": "ef0efa0c",
   "metadata": {},
   "source": [
    "#### Merge cells with the wildtype atlas"
   ]
  },
  {
   "cell_type": "code",
   "execution_count": 7,
   "id": "b500625a",
   "metadata": {},
   "outputs": [],
   "source": [
    "source(\"scripts/pipeline/merge_umi_mat_with_wt10_umi_mat.R\")\n",
    "mat_new <- merge_umi_mat_with_wt10(scmat = mat)\n",
    "scdb_add_mat(id = \"tko_chim_wt10\", mat = mat_new)"
   ]
  },
  {
   "cell_type": "markdown",
   "id": "a1ab6e55",
   "metadata": {},
   "source": [
    "#### Generate single-cell balanced kNN-graph\n",
    "This step needs the file  \n",
    "_data/tet_tko.bad_genes.txt_"
   ]
  },
  {
   "cell_type": "code",
   "execution_count": 23,
   "id": "2503a50f",
   "metadata": {},
   "outputs": [
    {
     "name": "stderr",
     "output_type": "stream",
     "text": [
      "initializing scdb to scrna_db/\n",
      "\n"
     ]
    },
    {
     "data": {
      "text/html": [
       "TRUE"
      ],
      "text/latex": [
       "TRUE"
      ],
      "text/markdown": [
       "TRUE"
      ],
      "text/plain": [
       "[1] TRUE"
      ]
     },
     "metadata": {},
     "output_type": "display_data"
    }
   ],
   "source": [
    "source(\"scripts/pipeline/gen_cgraph.R\")\n",
    "gen_cgraph(mat_nm = \"tko_chim_wt10\", force_recompute_cgraph = F)"
   ]
  },
  {
   "cell_type": "markdown",
   "id": "6c5625e4",
   "metadata": {},
   "source": [
    "#### Transfer cell type annotation to chimera cells"
   ]
  },
  {
   "cell_type": "code",
   "execution_count": 19,
   "id": "b39ac4c5",
   "metadata": {},
   "outputs": [],
   "source": [
    "source(\"scripts/pipeline/transfer_cell_type_annotation.R\")\n",
    "transfer_color_chimera_tetraploid(mat_nm = \"tko_chim_wt10\")"
   ]
  },
  {
   "cell_type": "markdown",
   "id": "670ff5ce",
   "metadata": {},
   "source": [
    "#### Time chimera embryos based on their host and KO cells"
   ]
  },
  {
   "cell_type": "code",
   "execution_count": 20,
   "id": "269252d8",
   "metadata": {},
   "outputs": [],
   "source": [
    "source(\"scripts/pipeline/tko_chim_timing.R\")\n",
    "source(\"scripts/pipeline/transfer_time_annotation.R\")\n",
    "tko_chim_timing()\n",
    "# tko_chimera_plot_cor_time_dist_per_emb(mat_nm = \"tko_chim_wt10\")"
   ]
  },
  {
   "cell_type": "markdown",
   "id": "5d2ac218",
   "metadata": {},
   "source": [
    "#### Export infered time and cell type into table"
   ]
  },
  {
   "cell_type": "code",
   "execution_count": 39,
   "id": "03966f70",
   "metadata": {},
   "outputs": [],
   "source": [
    "source(\"scripts/pipeline/create_metadata.R\")\n",
    "create_tko_chimera_metadata()"
   ]
  },
  {
   "cell_type": "markdown",
   "id": "c407a217",
   "metadata": {},
   "source": [
    "#### Generate a separate UMI matrix and metacell object for the TKO cells"
   ]
  },
  {
   "cell_type": "code",
   "execution_count": 30,
   "id": "337b2f3c",
   "metadata": {},
   "outputs": [],
   "source": [
    "source(\"scripts/pipeline/generat_ko_mat.R\")\n",
    "generate_ko_mat_chimera()"
   ]
  },
  {
   "cell_type": "code",
   "execution_count": 31,
   "id": "29bfc095",
   "metadata": {},
   "outputs": [
    {
     "name": "stderr",
     "output_type": "stream",
     "text": [
      "will downsample the matrix, N= 2222\n",
      "\n",
      "will build balanced knn graph on 6984 cells and 425 genes, this can be a bit heavy for >20,000 cells\n",
      "\n",
      "running bootstrap to generate cocluster\n",
      "\n",
      "done resampling\n",
      "\n",
      "filtered 3131824 left with 469000 based on co-cluster imbalance\n",
      "\n",
      "building metacell object, #mc 87\n",
      "\n",
      "add batch counts\n",
      "\n",
      "compute footprints\n",
      "\n",
      "compute absolute ps\n",
      "\n",
      "compute coverage ps\n",
      "\n",
      "reordering metacells by hclust and most variable two markers\n",
      "\n",
      "reorder on AK041755;Cdh1 vs Phlda2\n",
      "\n",
      "starting split outliers \n",
      "\n",
      "add batch counts\n",
      "\n",
      "compute footprints\n",
      "\n",
      "compute absolute ps\n",
      "\n",
      "compute coverage ps\n",
      "\n"
     ]
    }
   ],
   "source": [
    "source(\"scripts/pipeline/generic_mc.R\")\n",
    "tgconfig::override_params(config_file = \"config/tet_chim.yaml\", package = \"metacell\")\n",
    "\n",
    "bad_genes <- read.table(\"data/tet_tko.bad_genes.txt\", sep = \"\\t\", stringsAsFactors = F)\n",
    "bad_genes <- bad_genes[, 1]\n",
    "\n",
    "mat_nm <- \"tko_chim_ko\"\n",
    "\n",
    "generate_mc(name = mat_nm, add_bad_genes = bad_genes)"
   ]
  },
  {
   "cell_type": "code",
   "execution_count": 32,
   "id": "f865d4cd",
   "metadata": {},
   "outputs": [],
   "source": [
    "# Run the line below if you want to transfer cell type annotation from the WT atlas to the tko_chim_ko metacell object\n",
    "\n",
    "# wt_atlas <- mcell_gen_atlas(\n",
    "#     mat_id = \"sing_emb_wt10\",\n",
    "#     mc_id = \"sing_emb_wt10_recolored\",\n",
    "#     gset_id = \"sing_emb_wt10\",\n",
    "#     mc2d_id = \"sing_emb_wt10_recolored\"\n",
    "# )\n",
    "\n",
    "# cmp <- mcell_proj_on_atlas(\n",
    "#     mat_id = \"tko_chim_ko\",\n",
    "#     mc_id = \"tko_chim_ko\",\n",
    "#     atlas = wt_atlas,\n",
    "#     fig_cmp_dir = paste0(\"figs/atlas_projection_\", \"tko_chim_ko\"), recolor_mc_id = \"tko_chim_ko\", ten2mars = F\n",
    "# )"
   ]
  },
  {
   "cell_type": "code",
   "execution_count": 36,
   "id": "82c58045",
   "metadata": {},
   "outputs": [
    {
     "name": "stderr",
     "output_type": "stream",
     "text": [
      "got 74 feat genes for mc graph construction\n",
      "\n"
     ]
    },
    {
     "data": {
      "text/html": [
       "<strong>png:</strong> 2"
      ],
      "text/latex": [
       "\\textbf{png:} 2"
      ],
      "text/markdown": [
       "**png:** 2"
      ],
      "text/plain": [
       "png \n",
       "  2 "
      ]
     },
     "metadata": {},
     "output_type": "display_data"
    }
   ],
   "source": [
    "tgconfig::set_param(param = \"mcell_mc2d_T_edge\", value = 0.03, package = \"metacell\")\n",
    "mcell_mc2d_force_knn(mc2d_id = \"tko_chim_ko\", mc_id = \"tko_chim_ko\", graph_id = \"tko_chim_ko\", graph_parametric = T, feats_gset = \"tko_chim_ko\")\n",
    "mcell_mc2d_plot(\"tko_chim_ko\")"
   ]
  },
  {
   "cell_type": "code",
   "execution_count": null,
   "id": "8f70de30",
   "metadata": {},
   "outputs": [],
   "source": []
  }
 ],
 "metadata": {
  "jupytext": {
   "formats": "ipynb,Rmd"
  },
  "kernelspec": {
   "display_name": "R",
   "language": "R",
   "name": "ir353"
  },
  "language_info": {
   "codemirror_mode": "r",
   "file_extension": ".r",
   "mimetype": "text/x-r-source",
   "name": "R",
   "pygments_lexer": "r",
   "version": "4.0.5"
  }
 },
 "nbformat": 4,
 "nbformat_minor": 5
}
