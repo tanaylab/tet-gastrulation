{
 "cells": [
  {
   "cell_type": "code",
   "execution_count": 1,
   "id": "ea7d87f8",
   "metadata": {},
   "outputs": [],
   "source": [
    "setwd(\"../\")"
   ]
  },
  {
   "cell_type": "code",
   "execution_count": 11,
   "id": "be59a703",
   "metadata": {},
   "outputs": [],
   "source": [
    "library(\"Matrix\")\n",
    "library(\"dplyr\")\n",
    "library(\"metacell\")\n",
    "library(\"tgstat\")"
   ]
  },
  {
   "cell_type": "code",
   "execution_count": 14,
   "id": "aa6c8ec8",
   "metadata": {},
   "outputs": [
    {
     "name": "stderr",
     "output_type": "stream",
     "text": [
      "initializing scdb to scrna_db\n",
      "\n"
     ]
    }
   ],
   "source": [
    "scdb_init(\"scrna_db\", force_reinit=T)"
   ]
  },
  {
   "cell_type": "code",
   "execution_count": 4,
   "id": "15405aa6",
   "metadata": {},
   "outputs": [],
   "source": [
    "mat = scdb_mat(\"tko_germline\")"
   ]
  },
  {
   "cell_type": "code",
   "execution_count": 9,
   "id": "14b90b5d",
   "metadata": {},
   "outputs": [],
   "source": [
    "# for compatibility with later scripts, change column name 'cell_genotype' to 'cell_type'\n",
    "md = mat@cell_metadata\n",
    "\n",
    "if(\"cell_genotype\" %in% colnames(md)) {\n",
    "    md = rename(md,cell_type = cell_genotype)\n",
    "}\n",
    "\n",
    "mat@cell_metadata = md\n",
    "scdb_add_mat(id = \"tko_germline\",mat = mat)"
   ]
  },
  {
   "cell_type": "markdown",
   "id": "4fb069f4",
   "metadata": {},
   "source": [
    "#### Remove extraembryonic ectoderm and parietal endoderm cells\n",
    "#### Merge cells with the wildtype atlas"
   ]
  },
  {
   "cell_type": "code",
   "execution_count": 12,
   "id": "175271a0",
   "metadata": {},
   "outputs": [],
   "source": [
    "source(\"scripts/pipeline/remove_exe_ectoderm_and_parietal_endo_cls.R\")\n",
    "source(\"scripts/pipeline/merge_umi_mat_with_wt10_umi_mat.R\")\n",
    "\n",
    "mat = remove_exe_ectoderm_and_parietal_endoderm(mat_query = mat)\n",
    "mat_new = merge_umi_mat_with_wt10(scmat = mat)\n",
    "scdb_add_mat(id = \"tko_germline_wt10\",mat = mat_new)"
   ]
  },
  {
   "cell_type": "markdown",
   "id": "8586f85b",
   "metadata": {},
   "source": [
    "#### Generate single-cell balanced kNN-graph\n",
    "This step needs the file  \n",
    "_data/tet_tko.bad_genes.txt_"
   ]
  },
  {
   "cell_type": "code",
   "execution_count": 16,
   "id": "8a7c01ec",
   "metadata": {
    "scrolled": true
   },
   "outputs": [
    {
     "name": "stderr",
     "output_type": "stream",
     "text": [
      "initializing scdb to scrna_db/\n",
      "\n"
     ]
    },
    {
     "data": {
      "text/html": [
       "TRUE"
      ],
      "text/latex": [
       "TRUE"
      ],
      "text/markdown": [
       "TRUE"
      ],
      "text/plain": [
       "[1] TRUE"
      ]
     },
     "metadata": {},
     "output_type": "display_data"
    }
   ],
   "source": [
    "# 4. generate cgraph\n",
    "source(\"scripts/pipeline/gen_cgraph.R\")\n",
    "gen_cgraph(mat_nm = \"tko_germline_wt10\",force_recompute_cgraph = F)"
   ]
  },
  {
   "cell_type": "markdown",
   "id": "232d898f",
   "metadata": {},
   "source": [
    "#### Transfer cell type annotation to TKO cells"
   ]
  },
  {
   "cell_type": "code",
   "execution_count": 18,
   "id": "9dc2d5a7",
   "metadata": {},
   "outputs": [],
   "source": [
    "source(\"scripts/pipeline/transfer_cell_type_annotation.R\")\n",
    "transfer_color_chimera_tetraploid(\"tko_germline_wt10\")"
   ]
  },
  {
   "cell_type": "markdown",
   "id": "1c47ca23",
   "metadata": {},
   "source": [
    "#### Time single embryos"
   ]
  },
  {
   "cell_type": "code",
   "execution_count": 21,
   "id": "dd5c198e",
   "metadata": {},
   "outputs": [
    {
     "name": "stderr",
     "output_type": "stream",
     "text": [
      "Loading required package: slam\n",
      "\n",
      "Loading required package: sparsesvd\n",
      "\n"
     ]
    }
   ],
   "source": [
    "source(\"scripts/pipeline/transfer_time_annotation.R\")\n",
    "source(\"scripts/pipeline/tko_germline_timing.R\")\n",
    "tko_germline_timing(\"tko_germline_wt10\")"
   ]
  },
  {
   "cell_type": "code",
   "execution_count": null,
   "id": "76c2ba40",
   "metadata": {},
   "outputs": [],
   "source": []
  }
 ],
 "metadata": {
  "jupytext": {
   "formats": "ipynb,Rmd"
  },
  "kernelspec": {
   "display_name": "R",
   "language": "R",
   "name": "ir353"
  },
  "language_info": {
   "codemirror_mode": "r",
   "file_extension": ".r",
   "mimetype": "text/x-r-source",
   "name": "R",
   "pygments_lexer": "r",
   "version": "4.0.5"
  }
 },
 "nbformat": 4,
 "nbformat_minor": 5
}
