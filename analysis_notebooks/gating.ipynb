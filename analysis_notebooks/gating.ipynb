{
 "cells": [
  {
   "cell_type": "code",
   "execution_count": 1,
   "id": "57114676",
   "metadata": {},
   "outputs": [],
   "source": [
    "setwd(\"../\")"
   ]
  },
  {
   "cell_type": "code",
   "execution_count": 2,
   "id": "0431fd5a",
   "metadata": {},
   "outputs": [
    {
     "name": "stderr",
     "output_type": "stream",
     "text": [
      "\n",
      "Attaching package: 'dplyr'\n",
      "\n",
      "\n",
      "The following objects are masked from 'package:stats':\n",
      "\n",
      "    filter, lag\n",
      "\n",
      "\n",
      "The following objects are masked from 'package:base':\n",
      "\n",
      "    intersect, setdiff, setequal, union\n",
      "\n",
      "\n"
     ]
    }
   ],
   "source": [
    "library(\"metacell\")\n",
    "library(\"tgstat\")\n",
    "library(\"Matrix\")\n",
    "library(\"dplyr\")"
   ]
  },
  {
   "cell_type": "code",
   "execution_count": 3,
   "id": "b328c0d2",
   "metadata": {},
   "outputs": [],
   "source": [
    "source(\"scripts/pipeline/proj_on_wt9_atlas.R\")\n",
    "source(\"scripts/pipeline/add_clone_information_to_scmat_metadata.R\")"
   ]
  },
  {
   "cell_type": "code",
   "execution_count": 4,
   "id": "8f5f62ff",
   "metadata": {},
   "outputs": [
    {
     "name": "stderr",
     "output_type": "stream",
     "text": [
      "initializing scdb to scrna_db/\n",
      "\n"
     ]
    }
   ],
   "source": [
    "scfigs_init(\"figs\")\n",
    "scdb_init(\"scrna_db/\")"
   ]
  },
  {
   "cell_type": "markdown",
   "id": "b4e61e1d",
   "metadata": {},
   "source": [
    "#### Tet TKO chimera embryos"
   ]
  },
  {
   "cell_type": "code",
   "execution_count": null,
   "id": "72159935",
   "metadata": {},
   "outputs": [],
   "source": [
    "source(\"scripts/gating/tko_chim_gating.R\")"
   ]
  },
  {
   "cell_type": "markdown",
   "id": "66e9fc77",
   "metadata": {},
   "source": [
    "#### Tet TKO tetraploid embryos"
   ]
  },
  {
   "cell_type": "code",
   "execution_count": null,
   "id": "c806b0a7",
   "metadata": {},
   "outputs": [],
   "source": [
    "source(\"scripts/gating/tko_tetra_gating.R\")"
   ]
  },
  {
   "cell_type": "markdown",
   "id": "e53cec1d",
   "metadata": {},
   "source": [
    "####  Control tetraploid embryos"
   ]
  },
  {
   "cell_type": "code",
   "execution_count": 5,
   "id": "8774f7a2",
   "metadata": {},
   "outputs": [],
   "source": [
    "source(\"scripts/gating/control_tetra_gating.R\")"
   ]
  },
  {
   "cell_type": "markdown",
   "id": "40fa1c86",
   "metadata": {},
   "source": [
    "####  Tet 1/2 DKO chimera embryos"
   ]
  },
  {
   "cell_type": "code",
   "execution_count": 11,
   "id": "63be453a",
   "metadata": {},
   "outputs": [],
   "source": [
    "source(\"scripts/gating/dko12_chim_gating.R\")\n",
    "dko12_gating()"
   ]
  },
  {
   "cell_type": "markdown",
   "id": "cb29af9f",
   "metadata": {},
   "source": [
    "####  Tet 1/3 DKO chimera embryos"
   ]
  },
  {
   "cell_type": "code",
   "execution_count": 12,
   "id": "e1ae8800",
   "metadata": {},
   "outputs": [],
   "source": [
    "source(\"scripts/gating/dko13_chim_gating.R\")\n",
    "dko13_gating()"
   ]
  },
  {
   "cell_type": "markdown",
   "id": "49ecff41",
   "metadata": {},
   "source": [
    "####  Tet 2/3 DKO chimera embryos"
   ]
  },
  {
   "cell_type": "code",
   "execution_count": 13,
   "id": "55b0af08",
   "metadata": {},
   "outputs": [],
   "source": [
    "source(\"scripts/gating/dko23_chim_gating.R\")\n",
    "dko23_gating()"
   ]
  },
  {
   "cell_type": "code",
   "execution_count": null,
   "id": "a8f24d9c",
   "metadata": {},
   "outputs": [],
   "source": []
  }
 ],
 "metadata": {
  "jupytext": {
   "formats": "ipynb,Rmd"
  },
  "kernelspec": {
   "display_name": "R",
   "language": "R",
   "name": "ir353"
  },
  "language_info": {
   "codemirror_mode": "r",
   "file_extension": ".r",
   "mimetype": "text/x-r-source",
   "name": "R",
   "pygments_lexer": "r",
   "version": "4.0.5"
  }
 },
 "nbformat": 4,
 "nbformat_minor": 5
}
