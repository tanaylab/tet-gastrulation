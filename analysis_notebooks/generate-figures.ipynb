{
 "cells": [
  {
   "cell_type": "code",
   "execution_count": null,
   "id": "befaf99b",
   "metadata": {},
   "outputs": [],
   "source": [
    "## The working directory should be the root of the cloned repository with scrna_db, figs, data as subfolders\n",
    "setwd(\"../\")"
   ]
  },
  {
   "cell_type": "code",
   "execution_count": null,
   "id": "4778215f",
   "metadata": {},
   "outputs": [],
   "source": [
    "library(\"dplyr\")\n",
    "library(\"zoo\")\n",
    "library(\"metacell\")\n",
    "library(\"tgstat\")\n",
    "library(\"ggpubr\")\n",
    "library(\"qvalue\")\n",
    "library(\"gridExtra\")\n",
    "library(\"Matrix\")\n",
    "library(\"tidyr\")\n",
    "library(\"ggplot2\")\n",
    "library(\"ggrepel\")\n"
   ]
  },
  {
   "cell_type": "code",
   "execution_count": null,
   "id": "694c86c7",
   "metadata": {},
   "outputs": [],
   "source": [
    "scdb_init(\"scrna_db/\",force_reinit = T)"
   ]
  },
  {
   "cell_type": "code",
   "execution_count": null,
   "id": "c09e6e98",
   "metadata": {},
   "outputs": [],
   "source": [
    "source(\"scripts/pipeline/atlas_proj_wt10.R\")\n",
    "source(\"scripts/pipeline/transfer_time_annotation.R\")"
   ]
  },
  {
   "cell_type": "markdown",
   "id": "52a0a32b",
   "metadata": {},
   "source": [
    "#### Generate Figure 1"
   ]
  },
  {
   "cell_type": "code",
   "execution_count": null,
   "id": "68546425",
   "metadata": {},
   "outputs": [],
   "source": [
    "source(\"scripts/paper_figures/fig1.R\")\n",
    "generate_figure1_plots()"
   ]
  },
  {
   "cell_type": "markdown",
   "id": "22649de6",
   "metadata": {},
   "source": [
    "#### Generate Figure 2"
   ]
  },
  {
   "cell_type": "code",
   "execution_count": null,
   "id": "aa9f35f6",
   "metadata": {},
   "outputs": [],
   "source": [
    "source(\"scripts/paper_figures/fig2.R\")\n",
    "generate_figure2_plots()"
   ]
  },
  {
   "cell_type": "markdown",
   "id": "4384c5d1",
   "metadata": {},
   "source": [
    "#### Generate Figure 3"
   ]
  },
  {
   "cell_type": "code",
   "execution_count": null,
   "id": "c38d68d1",
   "metadata": {},
   "outputs": [],
   "source": [
    "source(\"scripts/paper_figures/fig3.R\")\n",
    "generate_figure3_plots()"
   ]
  },
  {
   "cell_type": "markdown",
   "id": "bbe9be9f",
   "metadata": {},
   "source": [
    "#### Generate Figure 4"
   ]
  },
  {
   "cell_type": "code",
   "execution_count": null,
   "id": "2e868d90",
   "metadata": {},
   "outputs": [],
   "source": [
    "source(\"scripts/paper_figures/fig4.R\")\n",
    "generate_figure4_plots()"
   ]
  },
  {
   "cell_type": "markdown",
   "id": "49f57f3d",
   "metadata": {},
   "source": [
    "#### Generate Figure 6"
   ]
  },
  {
   "cell_type": "code",
   "execution_count": null,
   "id": "ba4357d1",
   "metadata": {},
   "outputs": [],
   "source": [
    "source(\"scripts/paper_figures/fig6.R\")\n",
    "generate_figure6_plots()"
   ]
  },
  {
   "cell_type": "markdown",
   "id": "06d9a4ce",
   "metadata": {},
   "source": [
    "#### Generate Figure S2"
   ]
  },
  {
   "cell_type": "code",
   "execution_count": null,
   "id": "c4674035",
   "metadata": {},
   "outputs": [],
   "source": [
    "source(\"scripts/paper_figures/fig_s2.R\")\n",
    "generate_figure_s2_plots()"
   ]
  },
  {
   "cell_type": "markdown",
   "id": "c1ac832f",
   "metadata": {},
   "source": [
    "#### Generate Figure S3"
   ]
  },
  {
   "cell_type": "code",
   "execution_count": null,
   "id": "c8db1400",
   "metadata": {},
   "outputs": [],
   "source": [
    "source(\"scripts/paper_figures/fig_s3.R\")\n",
    "generate_figure_s3_plots()"
   ]
  },
  {
   "cell_type": "markdown",
   "id": "fd9cf072",
   "metadata": {},
   "source": [
    "#### Generate Figure S4"
   ]
  },
  {
   "cell_type": "code",
   "execution_count": null,
   "id": "bda97a19",
   "metadata": {},
   "outputs": [],
   "source": [
    "source(\"scripts/paper_figures/fig_s4.R\")\n",
    "generate_figure_s4_plots()"
   ]
  },
  {
   "cell_type": "markdown",
   "id": "dd08b52f",
   "metadata": {},
   "source": [
    "#### Generate Figure S5"
   ]
  },
  {
   "cell_type": "code",
   "execution_count": null,
   "id": "29f1a7a5",
   "metadata": {},
   "outputs": [],
   "source": [
    "source(\"scripts/paper_figures/fig_s5.R\")\n",
    "generate_figure_s5_plots()"
   ]
  },
  {
   "cell_type": "markdown",
   "id": "785dc801",
   "metadata": {},
   "source": [
    "#### Generate Figure S6"
   ]
  },
  {
   "cell_type": "code",
   "execution_count": null,
   "id": "378ab3d0",
   "metadata": {},
   "outputs": [],
   "source": [
    "source(\"scripts/paper_figures/fig_s6.R\")\n",
    "generate_figure_s6_plots()"
   ]
  },
  {
   "cell_type": "code",
   "execution_count": null,
   "id": "8f725030",
   "metadata": {},
   "outputs": [],
   "source": []
  }
 ],
 "metadata": {
  "jupytext": {
   "formats": "ipynb,Rmd"
  },
  "kernelspec": {
   "display_name": "R",
   "language": "R",
   "name": "ir353"
  },
  "language_info": {
   "codemirror_mode": "r",
   "file_extension": ".r",
   "mimetype": "text/x-r-source",
   "name": "R",
   "pygments_lexer": "r",
   "version": "4.0.5"
  }
 },
 "nbformat": 4,
 "nbformat_minor": 5
}
