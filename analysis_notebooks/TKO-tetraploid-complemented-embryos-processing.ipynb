{
 "cells": [
  {
   "cell_type": "code",
   "execution_count": 1,
   "id": "ccf8078e",
   "metadata": {},
   "outputs": [],
   "source": [
    "setwd(\"../\")"
   ]
  },
  {
   "cell_type": "code",
   "execution_count": 2,
   "id": "25f451c4",
   "metadata": {},
   "outputs": [
    {
     "name": "stderr",
     "output_type": "stream",
     "text": [
      "\n",
      "Attaching package: 'dplyr'\n",
      "\n",
      "\n",
      "The following objects are masked from 'package:stats':\n",
      "\n",
      "    filter, lag\n",
      "\n",
      "\n",
      "The following objects are masked from 'package:base':\n",
      "\n",
      "    intersect, setdiff, setequal, union\n",
      "\n",
      "\n"
     ]
    }
   ],
   "source": [
    "library(\"metacell\")\n",
    "library(\"tgstat\")\n",
    "library(\"tgconfig\")\n",
    "library(\"Matrix\")\n",
    "library(\"dplyr\")"
   ]
  },
  {
   "cell_type": "code",
   "execution_count": 24,
   "id": "65dc8672",
   "metadata": {},
   "outputs": [
    {
     "name": "stderr",
     "output_type": "stream",
     "text": [
      "initializing scdb to scrna_db/\n",
      "\n"
     ]
    }
   ],
   "source": [
    "scdb_init(\"scrna_db/\",force_reinit = T)"
   ]
  },
  {
   "cell_type": "code",
   "execution_count": 25,
   "id": "7c292da8",
   "metadata": {},
   "outputs": [],
   "source": [
    "mat = scdb_mat(\"tko_tetra\")"
   ]
  },
  {
   "cell_type": "markdown",
   "id": "fc33f006",
   "metadata": {},
   "source": [
    "#### Remove extraembryonic ectoderm and parietal endoderm cells"
   ]
  },
  {
   "cell_type": "code",
   "execution_count": 6,
   "id": "e5f46797",
   "metadata": {},
   "outputs": [],
   "source": [
    "source(\"scripts/pipeline/remove_exe_ectoderm_and_parietal_endo_cls.R\")\n",
    "mat = remove_exe_ectoderm_and_parietal_endoderm(mat_query = mat)"
   ]
  },
  {
   "cell_type": "markdown",
   "id": "8bce97e6",
   "metadata": {},
   "source": [
    "#### Merge cells with the wildtype atlas"
   ]
  },
  {
   "cell_type": "code",
   "execution_count": 8,
   "id": "d55b180f",
   "metadata": {},
   "outputs": [],
   "source": [
    "source(\"scripts/pipeline/merge_umi_mat_with_wt10_umi_mat.R\")\n",
    "mat_new = merge_umi_mat_with_wt10(scmat = mat)\n",
    "scdb_add_mat(id = \"tko_tetra_wt10\",mat = mat_new)"
   ]
  },
  {
   "cell_type": "markdown",
   "id": "beeedf69",
   "metadata": {},
   "source": [
    "#### Generate single-cell balanced kNN-graph\n",
    "This step needs the file  \n",
    "_data/tet_tko.bad_genes.txt_"
   ]
  },
  {
   "cell_type": "code",
   "execution_count": 16,
   "id": "3418c915",
   "metadata": {},
   "outputs": [
    {
     "name": "stderr",
     "output_type": "stream",
     "text": [
      "initializing scdb to scrna_db/\n",
      "\n"
     ]
    },
    {
     "data": {
      "text/html": [
       "TRUE"
      ],
      "text/latex": [
       "TRUE"
      ],
      "text/markdown": [
       "TRUE"
      ],
      "text/plain": [
       "[1] TRUE"
      ]
     },
     "metadata": {},
     "output_type": "display_data"
    }
   ],
   "source": [
    "source(\"scripts/pipeline/gen_cgraph.R\")\n",
    "gen_cgraph(mat_nm = \"tko_tetra_wt10\",force_recompute_cgraph = F)"
   ]
  },
  {
   "cell_type": "markdown",
   "id": "fd7d88f1",
   "metadata": {},
   "source": [
    "#### Transfer cell type annotation to TKO cells"
   ]
  },
  {
   "cell_type": "code",
   "execution_count": 13,
   "id": "c68aa114",
   "metadata": {},
   "outputs": [],
   "source": [
    "source(\"scripts/pipeline/transfer_cell_type_annotation.R\")\n",
    "transfer_color_chimera_tetraploid(mat_nm = \"tko_tetra_wt10\")"
   ]
  },
  {
   "cell_type": "markdown",
   "id": "388045d1",
   "metadata": {},
   "source": [
    "#### Time tetraploid-complemented embryos based on their injected TKO cells"
   ]
  },
  {
   "cell_type": "code",
   "execution_count": 15,
   "id": "97ea4e5b",
   "metadata": {},
   "outputs": [
    {
     "name": "stderr",
     "output_type": "stream",
     "text": [
      "Loading required package: slam\n",
      "\n",
      "Loading required package: sparsesvd\n",
      "\n"
     ]
    }
   ],
   "source": [
    "source(\"scripts/pipeline/transfer_time_annotation.R\")\n",
    "source(\"scripts/pipeline/tetraploid_timing.R\")\n",
    "tetra_timing(\"tko_tetra_wt10\")"
   ]
  },
  {
   "cell_type": "markdown",
   "id": "ce055779",
   "metadata": {},
   "source": [
    "#### Export infered time and cell type into table"
   ]
  },
  {
   "cell_type": "code",
   "execution_count": 43,
   "id": "64047a67",
   "metadata": {},
   "outputs": [],
   "source": [
    "source(\"scripts/pipeline/create_metadata.R\")\n",
    "create_tko_tetraploid_metadata()"
   ]
  },
  {
   "cell_type": "markdown",
   "id": "8f2ec17a",
   "metadata": {},
   "source": [
    "#### Generate a separate UMI matrix and metacell object for the TKO cells"
   ]
  },
  {
   "cell_type": "code",
   "execution_count": 26,
   "id": "9e5ba207",
   "metadata": {},
   "outputs": [],
   "source": [
    "source(\"scripts/pipeline/generat_ko_mat.R\")\n",
    "generate_ko_mat_tetraploid()"
   ]
  },
  {
   "cell_type": "code",
   "execution_count": 27,
   "id": "78920a5a",
   "metadata": {},
   "outputs": [
    {
     "name": "stderr",
     "output_type": "stream",
     "text": [
      "will downsample the matrix, N= 2169\n",
      "\n",
      "will build balanced knn graph on 9793 cells and 550 genes, this can be a bit heavy for >20,000 cells\n",
      "\n",
      "running bootstrap to generate cocluster\n",
      "\n",
      "done resampling\n",
      "\n",
      "filtered 7735740 left with 650054 based on co-cluster imbalance\n",
      "\n",
      "building metacell object, #mc 133\n",
      "\n",
      "add batch counts\n",
      "\n",
      "compute footprints\n",
      "\n",
      "compute absolute ps\n",
      "\n",
      "compute coverage ps\n",
      "\n",
      "reordering metacells by hclust and most variable two markers\n",
      "\n",
      "reorder on Fn1 vs Utf1\n",
      "\n",
      "starting split outliers \n",
      "\n",
      "add batch counts\n",
      "\n",
      "compute footprints\n",
      "\n",
      "compute absolute ps\n",
      "\n",
      "compute coverage ps\n",
      "\n"
     ]
    }
   ],
   "source": [
    "source(\"scripts/pipeline/generic_mc.R\")\n",
    "tgconfig::override_params(config_file = \"config/tet_chim.yaml\",package = \"metacell\")\n",
    "\n",
    "bad_genes = read.table(\"data/tet_tko.bad_genes.txt\",sep = \"\\t\",stringsAsFactors = F)\n",
    "bad_genes = bad_genes[,1]\n",
    "\n",
    "mat_nm = \"tko_tetra_ko\"\n",
    "\n",
    "generate_mc(mat_nm, add_bad_genes = bad_genes)"
   ]
  },
  {
   "cell_type": "code",
   "execution_count": 28,
   "id": "f8692097",
   "metadata": {},
   "outputs": [],
   "source": [
    "wt_atlas = mcell_gen_atlas(mat_id = \"sing_emb_wt10\",\n",
    "                             mc_id = \"sing_emb_wt10_recolored\",\n",
    "                             gset_id = \"sing_emb_wt10\",\n",
    "                             mc2d_id = \"sing_emb_wt10_recolored\")\n",
    "\n",
    "cmp = mcell_proj_on_atlas(mat_id = \"tko_tetra_ko\",\n",
    "                          mc_id = \"tko_tetra_ko\",\n",
    "                          atlas = wt_atlas,\n",
    "                          fig_cmp_dir = paste0(\"figs/atlas_projection_\",\"tko_tetra_ko\"),recolor_mc_id = \"tko_tetra_ko\",ten2mars = F)"
   ]
  },
  {
   "cell_type": "code",
   "execution_count": 41,
   "id": "6fc25513",
   "metadata": {},
   "outputs": [
    {
     "name": "stderr",
     "output_type": "stream",
     "text": [
      "got 67 feat genes for mc graph construction\n",
      "\n"
     ]
    },
    {
     "data": {
      "text/html": [
       "<strong>png:</strong> 2"
      ],
      "text/latex": [
       "\\textbf{png:} 2"
      ],
      "text/markdown": [
       "**png:** 2"
      ],
      "text/plain": [
       "png \n",
       "  2 "
      ]
     },
     "metadata": {},
     "output_type": "display_data"
    }
   ],
   "source": [
    "tgconfig::set_param(param = \"mcell_mc2d_T_edge\",value = 0.03,package = \"metacell\")\n",
    "mcell_mc2d_force_knn(mc2d_id = \"tko_tetra_ko\",mc_id = \"tko_tetra_ko\",graph_id = \"tko_tetra_ko\",graph_parametric = T,feats_gset = \"tko_tetra_ko\")\n",
    "mcell_mc2d_plot(\"tko_tetra_ko\")"
   ]
  },
  {
   "cell_type": "code",
   "execution_count": 30,
   "id": "c5c81491",
   "metadata": {},
   "outputs": [
    {
     "data": {
      "text/html": [
       "<strong>png:</strong> 2"
      ],
      "text/latex": [
       "\\textbf{png:} 2"
      ],
      "text/markdown": [
       "**png:** 2"
      ],
      "text/plain": [
       "png \n",
       "  2 "
      ]
     },
     "metadata": {},
     "output_type": "display_data"
    }
   ],
   "source": []
  },
  {
   "cell_type": "code",
   "execution_count": null,
   "id": "ec9ea8c4",
   "metadata": {},
   "outputs": [],
   "source": []
  }
 ],
 "metadata": {
  "kernelspec": {
   "display_name": "R",
   "language": "R",
   "name": "ir353"
  },
  "language_info": {
   "codemirror_mode": "r",
   "file_extension": ".r",
   "mimetype": "text/x-r-source",
   "name": "R",
   "pygments_lexer": "r",
   "version": "4.0.5"
  }
 },
 "nbformat": 4,
 "nbformat_minor": 5
}
