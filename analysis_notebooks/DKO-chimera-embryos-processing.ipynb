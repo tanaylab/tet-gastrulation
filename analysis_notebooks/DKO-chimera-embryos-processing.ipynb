{
 "cells": [
  {
   "cell_type": "code",
   "execution_count": 1,
   "id": "3a70b2a2",
   "metadata": {},
   "outputs": [],
   "source": [
    "setwd(\"../\")"
   ]
  },
  {
   "cell_type": "code",
   "execution_count": 2,
   "id": "b1646946",
   "metadata": {},
   "outputs": [
    {
     "name": "stderr",
     "output_type": "stream",
     "text": [
      "\n",
      "Attaching package: 'dplyr'\n",
      "\n",
      "\n",
      "The following objects are masked from 'package:stats':\n",
      "\n",
      "    filter, lag\n",
      "\n",
      "\n",
      "The following objects are masked from 'package:base':\n",
      "\n",
      "    intersect, setdiff, setequal, union\n",
      "\n",
      "\n"
     ]
    }
   ],
   "source": [
    "library(\"metacell\")\n",
    "library(\"tgstat\")\n",
    "library(\"tgconfig\")\n",
    "library(\"Matrix\")\n",
    "library(\"dplyr\")"
   ]
  },
  {
   "cell_type": "code",
   "execution_count": 3,
   "id": "bbece7db",
   "metadata": {},
   "outputs": [
    {
     "name": "stderr",
     "output_type": "stream",
     "text": [
      "initializing scdb to scrna_db/\n",
      "\n"
     ]
    }
   ],
   "source": [
    "scdb_init(\"scrna_db/\",force_reinit = T)"
   ]
  },
  {
   "cell_type": "markdown",
   "id": "f3813f04",
   "metadata": {},
   "source": [
    "#### Remove extraembryonic ectoderm and parietal endoderm cells\n",
    "#### Merge cells with the wildtype atlas"
   ]
  },
  {
   "cell_type": "code",
   "execution_count": 4,
   "id": "c6804880",
   "metadata": {},
   "outputs": [
    {
     "name": "stdout",
     "output_type": "stream",
     "text": [
      "[1] \"dko12_chim\"\n",
      "[1] \"dko13_chim\"\n",
      "[1] \"dko23_chim\"\n"
     ]
    }
   ],
   "source": [
    "source(\"scripts/pipeline/remove_exe_ectoderm_and_parietal_endo_cls.R\")\n",
    "source(\"scripts/pipeline/merge_umi_mat_with_wt10_umi_mat.R\")\n",
    "\n",
    "for (mat_nm in c(\"dko12_chim\",\"dko13_chim\",\"dko23_chim\")) {\n",
    "  \n",
    "  print(mat_nm)\n",
    "  mat = scdb_mat(mat_nm)\n",
    "  mat = remove_exe_ectoderm_and_parietal_endoderm(mat_query = mat)\n",
    "  mat_new = merge_umi_mat_with_wt10(scmat = mat)\n",
    "  scdb_add_mat(id = paste0(mat_nm,\"_wt10\"),mat = mat_new)\n",
    "  \n",
    "}"
   ]
  },
  {
   "cell_type": "markdown",
   "id": "0d00a281",
   "metadata": {},
   "source": [
    "#### Generate single-cell balanced kNN-graph\n",
    "This step needs the file  \n",
    "_data/tet_tko.bad_genes.txt_"
   ]
  },
  {
   "cell_type": "code",
   "execution_count": 8,
   "id": "6cbb3ef4",
   "metadata": {},
   "outputs": [
    {
     "name": "stderr",
     "output_type": "stream",
     "text": [
      "initializing scdb to scrna_db/\n",
      "\n"
     ]
    },
    {
     "data": {
      "text/html": [
       "TRUE"
      ],
      "text/latex": [
       "TRUE"
      ],
      "text/markdown": [
       "TRUE"
      ],
      "text/plain": [
       "[1] TRUE"
      ]
     },
     "metadata": {},
     "output_type": "display_data"
    },
    {
     "data": {
      "text/html": [
       "TRUE"
      ],
      "text/latex": [
       "TRUE"
      ],
      "text/markdown": [
       "TRUE"
      ],
      "text/plain": [
       "[1] TRUE"
      ]
     },
     "metadata": {},
     "output_type": "display_data"
    },
    {
     "data": {
      "text/html": [
       "TRUE"
      ],
      "text/latex": [
       "TRUE"
      ],
      "text/markdown": [
       "TRUE"
      ],
      "text/plain": [
       "[1] TRUE"
      ]
     },
     "metadata": {},
     "output_type": "display_data"
    }
   ],
   "source": [
    "source(\"scripts/pipeline/gen_cgraph.R\")\n",
    "gen_cgraph(\"dko12_chim_wt10\",force_recompute_cgraph = F)\n",
    "gen_cgraph(\"dko13_chim_wt10\",force_recompute_cgraph = F)\n",
    "gen_cgraph(\"dko23_chim_wt10\",force_recompute_cgraph = F)"
   ]
  },
  {
   "cell_type": "markdown",
   "id": "33c57c23",
   "metadata": {},
   "source": [
    "#### Transfer cell type annotation to TKO cells"
   ]
  },
  {
   "cell_type": "code",
   "execution_count": 5,
   "id": "8332845e",
   "metadata": {},
   "outputs": [],
   "source": [
    "source(\"scripts/pipeline/transfer_cell_type_annotation.R\")\n",
    "transfer_color_chimera_tetraploid(\"dko12_chim_wt10\")\n",
    "transfer_color_chimera_tetraploid(\"dko13_chim_wt10\")\n",
    "transfer_color_chimera_tetraploid(\"dko23_chim_wt10\")"
   ]
  },
  {
   "cell_type": "markdown",
   "id": "56d20c01",
   "metadata": {},
   "source": [
    "#### Time chimera embryos based on their host and KO cells"
   ]
  },
  {
   "cell_type": "code",
   "execution_count": 6,
   "id": "d58b6897",
   "metadata": {},
   "outputs": [
    {
     "name": "stderr",
     "output_type": "stream",
     "text": [
      "Loading required package: slam\n",
      "\n",
      "Loading required package: sparsesvd\n",
      "\n"
     ]
    }
   ],
   "source": [
    "source(\"scripts/pipeline/transfer_time_annotation.R\")\n",
    "source(\"scripts/pipeline/dko_chim_timing.R\")\n",
    "dko_chim_timing(\"dko12_chim_wt10\")\n",
    "dko_chim_timing(\"dko13_chim_wt10\")\n",
    "dko_chim_timing(\"dko23_chim_wt10\")"
   ]
  },
  {
   "cell_type": "code",
   "execution_count": null,
   "id": "178ab97f",
   "metadata": {},
   "outputs": [],
   "source": []
  }
 ],
 "metadata": {
  "kernelspec": {
   "display_name": "R",
   "language": "R",
   "name": "ir353"
  },
  "language_info": {
   "codemirror_mode": "r",
   "file_extension": ".r",
   "mimetype": "text/x-r-source",
   "name": "R",
   "pygments_lexer": "r",
   "version": "4.0.5"
  }
 },
 "nbformat": 4,
 "nbformat_minor": 5
}
