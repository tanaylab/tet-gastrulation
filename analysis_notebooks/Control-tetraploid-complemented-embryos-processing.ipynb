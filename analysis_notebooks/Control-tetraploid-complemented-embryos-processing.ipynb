{
 "cells": [
  {
   "cell_type": "code",
   "execution_count": 1,
   "id": "ec0b1dd4",
   "metadata": {},
   "outputs": [],
   "source": [
    "setwd(\"../\")"
   ]
  },
  {
   "cell_type": "code",
   "execution_count": 2,
   "id": "0412dcbd",
   "metadata": {},
   "outputs": [
    {
     "name": "stderr",
     "output_type": "stream",
     "text": [
      "\n",
      "Attaching package: 'dplyr'\n",
      "\n",
      "\n",
      "The following objects are masked from 'package:stats':\n",
      "\n",
      "    filter, lag\n",
      "\n",
      "\n",
      "The following objects are masked from 'package:base':\n",
      "\n",
      "    intersect, setdiff, setequal, union\n",
      "\n",
      "\n"
     ]
    }
   ],
   "source": [
    "library(\"metacell\")\n",
    "library(\"tgstat\")\n",
    "library(\"tgconfig\")\n",
    "library(\"Matrix\")\n",
    "library(\"dplyr\")"
   ]
  },
  {
   "cell_type": "code",
   "execution_count": 3,
   "id": "4e7e6023",
   "metadata": {},
   "outputs": [
    {
     "name": "stderr",
     "output_type": "stream",
     "text": [
      "initializing scdb to scrna_db/\n",
      "\n"
     ]
    }
   ],
   "source": [
    "scdb_init(\"scrna_db/\",force_reinit = T)"
   ]
  },
  {
   "cell_type": "code",
   "execution_count": null,
   "id": "a3ab2553",
   "metadata": {},
   "outputs": [],
   "source": [
    "mat1 = scdb_mat(\"control_tetra\")"
   ]
  },
  {
   "cell_type": "markdown",
   "id": "7c945af2",
   "metadata": {},
   "source": [
    "#### Remove extraembryonic ectoderm and parietal endoderm cells"
   ]
  },
  {
   "cell_type": "code",
   "execution_count": null,
   "id": "c31fb4d2",
   "metadata": {},
   "outputs": [],
   "source": [
    "source(\"scripts/pipeline/remove_exe_ectoderm_and_parietal_endo_cls.R\")\n",
    "mat1 = remove_exe_ectoderm_and_parietal_endoderm(mat_query = mat1)"
   ]
  },
  {
   "cell_type": "markdown",
   "id": "6370a113",
   "metadata": {},
   "source": [
    "#### Merge cells with the wildtype atlas\n",
    "We first merge this matrix with the tetraploid-complemented control embryos from Mittnenzweig, Mayshar et al. Cell (2021)"
   ]
  },
  {
   "cell_type": "code",
   "execution_count": null,
   "id": "67a3355a",
   "metadata": {},
   "outputs": [],
   "source": [
    "source(\"scripts/pipeline/preprocessing_foxc_experiment_control_tetraploid_mat.R\")\n",
    "preprocessing_tetraploid_control_mat_from_embflow_paper()"
   ]
  },
  {
   "cell_type": "code",
   "execution_count": 5,
   "id": "65701b4b",
   "metadata": {},
   "outputs": [],
   "source": [
    "source(\"scripts/pipeline/merge_umi_mat_with_wt10_umi_mat.R\")"
   ]
  },
  {
   "cell_type": "code",
   "execution_count": null,
   "id": "a2f58ff3",
   "metadata": {},
   "outputs": [],
   "source": [
    "source(\"scripts/pipeline/merge_umi_mat_with_wt10_umi_mat.R\")\n",
    "mat2 = scdb_mat(\"control_tetra_from_embflow_paper_f\")\n",
    "\n",
    "mat_new = merge_two_scmat(mat1 = mat,mat2 = mat2)\n",
    "\n",
    "scdb_add_mat(\"control_tetra_all\",mat = mat_new)"
   ]
  },
  {
   "cell_type": "markdown",
   "id": "86c6d501",
   "metadata": {},
   "source": [
    "Next merge matrix with WT cells"
   ]
  },
  {
   "cell_type": "code",
   "execution_count": 6,
   "id": "5b69e543",
   "metadata": {},
   "outputs": [],
   "source": [
    "mat_new = scdb_mat(\"control_tetra_all\")\n",
    "mat_new = merge_umi_mat_with_wt10(scmat = mat_new)\n",
    "scdb_add_mat(id = \"control_tetra_all_wt10\",mat = mat_new)"
   ]
  },
  {
   "cell_type": "markdown",
   "id": "dc8c2af7",
   "metadata": {},
   "source": [
    "#### Generate single-cell balanced kNN-graph\n",
    "This step needs the file  \n",
    "_data/tet_tko.bad_genes.txt_"
   ]
  },
  {
   "cell_type": "code",
   "execution_count": 10,
   "id": "c1bf6653",
   "metadata": {},
   "outputs": [
    {
     "name": "stderr",
     "output_type": "stream",
     "text": [
      "initializing scdb to scrna_db/\n",
      "\n"
     ]
    },
    {
     "data": {
      "text/html": [
       "TRUE"
      ],
      "text/latex": [
       "TRUE"
      ],
      "text/markdown": [
       "TRUE"
      ],
      "text/plain": [
       "[1] TRUE"
      ]
     },
     "metadata": {},
     "output_type": "display_data"
    },
    {
     "data": {
      "text/html": [
       "TRUE"
      ],
      "text/latex": [
       "TRUE"
      ],
      "text/markdown": [
       "TRUE"
      ],
      "text/plain": [
       "[1] TRUE"
      ]
     },
     "metadata": {},
     "output_type": "display_data"
    }
   ],
   "source": [
    "source(\"scripts/pipeline/gen_cgraph.R\")\n",
    "gen_cgraph(mat_nm = \"control_tetra_all\",force_recompute_cgraph = F)\n",
    "gen_cgraph(mat_nm = \"control_tetra_all_wt10\",force_recompute_cgraph = F)"
   ]
  },
  {
   "cell_type": "markdown",
   "id": "f108eb05",
   "metadata": {},
   "source": [
    "#### Transfer cell type annotation to chimera cells"
   ]
  },
  {
   "cell_type": "code",
   "execution_count": 7,
   "id": "399341ec",
   "metadata": {},
   "outputs": [],
   "source": [
    "source(\"scripts/pipeline/transfer_cell_type_annotation.R\")\n",
    "transfer_color_chimera_tetraploid(mat_nm = \"control_tetra_all_wt10\")"
   ]
  },
  {
   "cell_type": "markdown",
   "id": "6caa2de9",
   "metadata": {},
   "source": [
    "#### Time tetraploid-complemented embryos based on their injected control cells"
   ]
  },
  {
   "cell_type": "code",
   "execution_count": 9,
   "id": "d1498a09",
   "metadata": {},
   "outputs": [
    {
     "name": "stderr",
     "output_type": "stream",
     "text": [
      "Loading required package: slam\n",
      "\n",
      "Loading required package: sparsesvd\n",
      "\n"
     ]
    }
   ],
   "source": [
    "source(\"scripts/pipeline/transfer_time_annotation.R\")\n",
    "source(\"scripts/pipeline/tetraploid_timing.R\")\n",
    "tetra_timing(\"control_tetra_all_wt10\")"
   ]
  },
  {
   "cell_type": "markdown",
   "id": "a854caea",
   "metadata": {},
   "source": [
    "#### Export infered time and cell type into table"
   ]
  },
  {
   "cell_type": "code",
   "execution_count": 12,
   "id": "1c1ff9db",
   "metadata": {},
   "outputs": [],
   "source": [
    "source(\"scripts/pipeline/create_metadata.R\")\n",
    "create_control_tetraploid_metadata()"
   ]
  },
  {
   "cell_type": "code",
   "execution_count": null,
   "id": "8eea9a66",
   "metadata": {},
   "outputs": [],
   "source": []
  }
 ],
 "metadata": {
  "kernelspec": {
   "display_name": "R",
   "language": "R",
   "name": "ir353"
  },
  "language_info": {
   "codemirror_mode": "r",
   "file_extension": ".r",
   "mimetype": "text/x-r-source",
   "name": "R",
   "pygments_lexer": "r",
   "version": "4.0.5"
  }
 },
 "nbformat": 4,
 "nbformat_minor": 5
}
