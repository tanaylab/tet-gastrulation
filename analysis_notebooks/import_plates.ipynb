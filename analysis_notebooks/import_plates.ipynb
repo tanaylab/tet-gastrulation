{
 "cells": [
  {
   "cell_type": "code",
   "execution_count": 1,
   "id": "9fa23726",
   "metadata": {},
   "outputs": [],
   "source": [
    "setwd(\"../\")"
   ]
  },
  {
   "cell_type": "code",
   "execution_count": 2,
   "id": "2007705b",
   "metadata": {},
   "outputs": [
    {
     "name": "stderr",
     "output_type": "stream",
     "text": [
      "\n",
      "Attaching package: 'dplyr'\n",
      "\n",
      "\n",
      "The following objects are masked from 'package:stats':\n",
      "\n",
      "    filter, lag\n",
      "\n",
      "\n",
      "The following objects are masked from 'package:base':\n",
      "\n",
      "    intersect, setdiff, setequal, union\n",
      "\n",
      "\n"
     ]
    }
   ],
   "source": [
    "library(\"metacell\")\n",
    "library(\"Matrix\")\n",
    "library(\"dplyr\")"
   ]
  },
  {
   "cell_type": "code",
   "execution_count": 3,
   "id": "2eae6a66",
   "metadata": {},
   "outputs": [
    {
     "name": "stderr",
     "output_type": "stream",
     "text": [
      "initializing scdb to scrna_db/\n",
      "\n"
     ]
    }
   ],
   "source": [
    "scdb_init(\"scrna_db/\")"
   ]
  },
  {
   "cell_type": "markdown",
   "id": "b64a4f77",
   "metadata": {},
   "source": [
    "### Import Tet TKO chimera plates into metacell\n",
    "This notebook requires that the UMI tables for each plate are available in the folder **data/umi.tables** ."
   ]
  },
  {
   "cell_type": "code",
   "execution_count": 4,
   "id": "f4297e3d",
   "metadata": {},
   "outputs": [],
   "source": [
    "source(\"scripts/pipeline/import_plates.R\")"
   ]
  },
  {
   "cell_type": "code",
   "execution_count": null,
   "id": "4a14f7e4",
   "metadata": {},
   "outputs": [],
   "source": [
    "mat_nm = \"tko_chim\"\n",
    "  \n",
    "metadata = read.csv(file = \"data/plate_metadata.csv\",stringsAsFactors = F)\n",
    "genotype = \"TKO\"\n",
    "treatment = c(\"Chimera assay\")\n",
    "metadata = metadata[metadata$treatment %in% treatment,]\n",
    "metadata = metadata[grep(pattern = genotype,x = metadata$genotype),]\n",
    "  \n",
    "# remove additionally the plate 190730_P03. No embryo and facs data available. Only relevant for TKO Chimera\n",
    "metadata = metadata[metadata$plate != \"190730_P03\",]\n",
    "  \n",
    "import_plates(mat_nm = mat_nm,metadata = metadata)\n"
   ]
  },
  {
   "cell_type": "markdown",
   "id": "27ce2b33",
   "metadata": {},
   "source": [
    "### Import Tet TKO tetraploid-complemented embryos"
   ]
  },
  {
   "cell_type": "code",
   "execution_count": null,
   "id": "9156e7d9",
   "metadata": {},
   "outputs": [],
   "source": [
    "mat_nm = \"tko_tetra\"\n",
    "  \n",
    "metadata = read.csv(file = \"data/plate_metadata.csv\",stringsAsFactors = F)\n",
    "genotype = \"TKO\"\n",
    "treatment = c(\"Tetraploid complementation assay\")\n",
    "metadata = metadata[metadata$treatment %in% treatment,]\n",
    "metadata = metadata[grep(pattern = genotype,x = metadata$genotype),]\n",
    "  \n",
    "import_plates(mat_nm = mat_nm,metadata = metadata)\n"
   ]
  },
  {
   "cell_type": "code",
   "execution_count": null,
   "id": "27d7b57a",
   "metadata": {},
   "outputs": [],
   "source": [
    "# There are four mixed plates containing both tetraploid-complemented control and Tet TKO embryos\n",
    "# We additionally ignore the cells from control embryos\n",
    "mat = scdb_mat(\"tko_tetra\")\n",
    "\n",
    "ctrl_cells = mat@cell_metadata$cell[grep(pattern = \"Ctrl\",x = mat@cell_metadata$embryo)]\n",
    "\n",
    "mat = scm_ignore_cells(scmat = mat,ig_cells = union(mat@ignore_cells,ctrl_cells))\n",
    "\n",
    "scdb_add_mat(id = \"tko_tetra\",mat = mat)"
   ]
  },
  {
   "cell_type": "markdown",
   "id": "a957f75c",
   "metadata": {},
   "source": [
    "### Import Control tetraploid-complemented embryos"
   ]
  },
  {
   "cell_type": "code",
   "execution_count": 5,
   "id": "2dca9241",
   "metadata": {},
   "outputs": [
    {
     "name": "stderr",
     "output_type": "stream",
     "text": [
      "will read 191125_P04\n",
      "\n",
      "will read 190819_P01\n",
      "\n",
      "will read 190916_P07\n",
      "\n",
      "will read 190916_P09\n",
      "\n",
      "will read 190916_P01\n",
      "\n",
      "will read 190916_P02\n",
      "\n",
      "will read 190916_P03\n",
      "\n",
      "will read 190916_P04\n",
      "\n",
      "will read 190916_P05\n",
      "\n",
      "will read 190916_P06\n",
      "\n",
      "will read 0217_P01\n",
      "\n",
      "will read 0217_P02\n",
      "\n",
      "will read 0217_P03\n",
      "\n",
      "will read 0217_P04\n",
      "\n",
      "will read 0217_P05\n",
      "\n",
      "will read 191125_P05\n",
      "\n",
      "will read 191125_P06_NOVA\n",
      "\n",
      "will read 191125_P07\n",
      "\n"
     ]
    }
   ],
   "source": [
    "mat_nm = \"control_tetra\"\n",
    "  \n",
    "metadata = read.csv(file = \"data/plate_metadata.csv\",stringsAsFactors = F)\n",
    "genotype = \"Control\"\n",
    "treatment = c(\"Tetraploid complementation assay\")\n",
    "metadata = metadata[metadata$treatment %in% treatment,]\n",
    "metadata = metadata[grep(pattern = genotype,x = metadata$genotype),]\n",
    "  \n",
    "import_plates(mat_nm = mat_nm,metadata = metadata)\n"
   ]
  },
  {
   "cell_type": "code",
   "execution_count": 6,
   "id": "d32ba6b4",
   "metadata": {},
   "outputs": [
    {
     "data": {
      "text/html": [
       "809"
      ],
      "text/latex": [
       "809"
      ],
      "text/markdown": [
       "809"
      ],
      "text/plain": [
       "[1] 809"
      ]
     },
     "metadata": {},
     "output_type": "display_data"
    }
   ],
   "source": [
    "# There are four mixed plates containing both tetraploid-complemented control and Tet TKO embryos\n",
    "# We additionally ignore the cells from TKO embryos\n",
    "mat = scdb_mat(\"control_tetra\")\n",
    "\n",
    "tko_cells = mat@cell_metadata$cell[grep(pattern = \"TKO\",x = mat@cell_metadata$embryo)]\n",
    "length(tko_cells)\n",
    "\n",
    "mat = scm_ignore_cells(scmat = mat,ig_cells = union(mat@ignore_cells,tko_cells))\n",
    "\n",
    "scdb_add_mat(id = \"control_tetra\",mat = mat)"
   ]
  },
  {
   "cell_type": "markdown",
   "id": "0ee050dc",
   "metadata": {},
   "source": [
    "### Import Tet 1/2 DKO chimera embryos"
   ]
  },
  {
   "cell_type": "code",
   "execution_count": null,
   "id": "afa940a8",
   "metadata": {},
   "outputs": [],
   "source": [
    "mat_nm = \"dko12_chim\"\n",
    "  \n",
    "metadata = read.csv(file = \"data/plate_metadata.csv\",stringsAsFactors = F)\n",
    "genotype = \"Tet1/2 DKO\"\n",
    "treatment = c(\"Chimera assay\")\n",
    "metadata = metadata[metadata$treatment %in% treatment,]\n",
    "metadata = metadata[grep(pattern = genotype,x = metadata$genotype),]\n",
    "  \n",
    "import_plates(mat_nm = mat_nm,metadata = metadata)\n"
   ]
  },
  {
   "cell_type": "markdown",
   "id": "93ea53b4",
   "metadata": {},
   "source": [
    "### Import Tet 1/3 DKO chimera embryos"
   ]
  },
  {
   "cell_type": "code",
   "execution_count": null,
   "id": "8072f260",
   "metadata": {},
   "outputs": [],
   "source": [
    "mat_nm = \"dko13_chim\"\n",
    "  \n",
    "metadata = read.csv(file = \"data/plate_metadata.csv\",stringsAsFactors = F)\n",
    "genotype = \"Tet1/3 DKO\"\n",
    "treatment = c(\"Chimera assay\")\n",
    "metadata = metadata[metadata$treatment %in% treatment,]\n",
    "metadata = metadata[grep(pattern = genotype,x = metadata$genotype),]\n",
    "  \n",
    "import_plates(mat_nm = mat_nm,metadata = metadata)\n"
   ]
  },
  {
   "cell_type": "markdown",
   "id": "d8e24e1a",
   "metadata": {},
   "source": [
    "### Import Tet 2/3 DKO chimera embryos"
   ]
  },
  {
   "cell_type": "code",
   "execution_count": null,
   "id": "ce84325a",
   "metadata": {},
   "outputs": [],
   "source": [
    "mat_nm = \"dko23_chim\"\n",
    "  \n",
    "metadata = read.csv(file = \"data/plate_metadata.csv\",stringsAsFactors = F)\n",
    "genotype = \"Tet2/3 DKO\"\n",
    "treatment = c(\"Chimera assay\")\n",
    "metadata = metadata[metadata$treatment %in% treatment,]\n",
    "metadata = metadata[grep(pattern = genotype,x = metadata$genotype),]\n",
    "  \n",
    "import_plates(mat_nm = mat_nm,metadata = metadata)\n"
   ]
  },
  {
   "cell_type": "markdown",
   "id": "a6fe6704",
   "metadata": {},
   "source": [
    "### Import AAV-Cre delivered whole-embryo TKOs"
   ]
  },
  {
   "cell_type": "code",
   "execution_count": null,
   "id": "4ba8460b",
   "metadata": {},
   "outputs": [],
   "source": [
    "mat_nm = \"tko_germline\"\n",
    "  \n",
    "metadata = read.csv(file = \"data/plate_metadata.csv\",stringsAsFactors = F)\n",
    "genotype = \"TKO\"\n",
    "treatment = c(\"AAV Cre-delivered Tet1/2/3 triple KO\")\n",
    "metadata = metadata[metadata$treatment %in% treatment,]\n",
    "metadata = metadata[grep(pattern = genotype,x = metadata$genotype),]\n",
    "  \n",
    "import_plates(mat_nm = mat_nm,metadata = metadata)\n"
   ]
  },
  {
   "cell_type": "code",
   "execution_count": null,
   "id": "59aa93ca",
   "metadata": {},
   "outputs": [],
   "source": [
    "#### next step: gating of populations"
   ]
  },
  {
   "cell_type": "code",
   "execution_count": null,
   "id": "3807eb50",
   "metadata": {},
   "outputs": [],
   "source": []
  }
 ],
 "metadata": {
  "kernelspec": {
   "display_name": "R",
   "language": "R",
   "name": "ir353"
  },
  "language_info": {
   "codemirror_mode": "r",
   "file_extension": ".r",
   "mimetype": "text/x-r-source",
   "name": "R",
   "pygments_lexer": "r",
   "version": "4.0.5"
  }
 },
 "nbformat": 4,
 "nbformat_minor": 5
}
