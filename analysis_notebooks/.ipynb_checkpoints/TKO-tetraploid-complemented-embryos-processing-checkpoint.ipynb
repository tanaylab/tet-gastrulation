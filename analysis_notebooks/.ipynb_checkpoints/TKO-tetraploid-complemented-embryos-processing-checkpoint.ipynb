{
 "cells": [
  {
   "cell_type": "code",
   "execution_count": 1,
   "id": "6f6bd462",
   "metadata": {},
   "outputs": [],
   "source": [
    "setwd(\"../\")"
   ]
  },
  {
   "cell_type": "code",
   "execution_count": 2,
   "id": "825ab288",
   "metadata": {},
   "outputs": [
    {
     "name": "stderr",
     "output_type": "stream",
     "text": [
      "\n",
      "Attaching package: 'dplyr'\n",
      "\n",
      "\n",
      "The following objects are masked from 'package:stats':\n",
      "\n",
      "    filter, lag\n",
      "\n",
      "\n",
      "The following objects are masked from 'package:base':\n",
      "\n",
      "    intersect, setdiff, setequal, union\n",
      "\n",
      "\n"
     ]
    }
   ],
   "source": [
    "library(\"metacell\")\n",
    "library(\"tgstat\")\n",
    "library(\"tgconfig\")\n",
    "library(\"Matrix\")\n",
    "library(\"dplyr\")"
   ]
  },
  {
   "cell_type": "code",
   "execution_count": 11,
   "id": "87e504cf",
   "metadata": {},
   "outputs": [
    {
     "name": "stderr",
     "output_type": "stream",
     "text": [
      "initializing scdb to scrna_db/\n",
      "\n"
     ]
    }
   ],
   "source": [
    "scdb_init(\"scrna_db/\",force_reinit = T)"
   ]
  },
  {
   "cell_type": "code",
   "execution_count": 5,
   "id": "97834683",
   "metadata": {},
   "outputs": [],
   "source": [
    "mat = scdb_mat(\"tko_tetra\")"
   ]
  },
  {
   "cell_type": "markdown",
   "id": "217ddf83",
   "metadata": {},
   "source": [
    "#### Remove extraembryonic ectoderm and parietal endoderm cells"
   ]
  },
  {
   "cell_type": "code",
   "execution_count": 6,
   "id": "2acc78af",
   "metadata": {},
   "outputs": [],
   "source": [
    "source(\"scripts/pipeline/remove_exe_ectoderm_and_parietal_endo_cls.R\")\n",
    "mat = remove_exe_ectoderm_and_parietal_endoderm(mat_query = mat)"
   ]
  },
  {
   "cell_type": "markdown",
   "id": "9048c25d",
   "metadata": {},
   "source": [
    "#### Merge cells with the wildtype atlas"
   ]
  },
  {
   "cell_type": "code",
   "execution_count": 8,
   "id": "b6eeb414",
   "metadata": {},
   "outputs": [],
   "source": [
    "source(\"scripts/pipeline/merge_umi_mat_with_wt10_umi_mat.R\")\n",
    "mat_new = merge_umi_mat_with_wt10(scmat = mat)\n",
    "scdb_add_mat(id = \"tko_tetra_wt10\",mat = mat_new)"
   ]
  },
  {
   "cell_type": "markdown",
   "id": "831ac923",
   "metadata": {},
   "source": [
    "#### Generate single-cell balanced kNN-graph\n",
    "This step needs the file  \n",
    "_data/tet_tko.bad_genes.txt_"
   ]
  },
  {
   "cell_type": "code",
   "execution_count": null,
   "id": "49ace29f",
   "metadata": {},
   "outputs": [],
   "source": [
    "source(\"scripts/pipeline/gen_cgraph.r\")\n",
    "gen_cgraph(mat_nm = \"tko_tetra_wt10\")"
   ]
  },
  {
   "cell_type": "markdown",
   "id": "db195cf6",
   "metadata": {},
   "source": [
    "#### Transfer cell type annotation to TKO cells"
   ]
  },
  {
   "cell_type": "code",
   "execution_count": 13,
   "id": "b20162a4",
   "metadata": {},
   "outputs": [],
   "source": [
    "source(\"scripts/pipeline/transfer_cell_type_annotation.R\")\n",
    "transfer_color_chimera_tetraploid(mat_nm = \"tko_tetra_wt10\")"
   ]
  },
  {
   "cell_type": "markdown",
   "id": "97ed8dca",
   "metadata": {},
   "source": [
    "#### Time tetraploid-complemented embryos based on their injected TKO cells"
   ]
  },
  {
   "cell_type": "code",
   "execution_count": 15,
   "id": "9fcb6c4a",
   "metadata": {},
   "outputs": [
    {
     "name": "stderr",
     "output_type": "stream",
     "text": [
      "Loading required package: slam\n",
      "\n",
      "Loading required package: sparsesvd\n",
      "\n"
     ]
    }
   ],
   "source": [
    "source(\"scripts/pipeline/transfer_time_annotation.R\")\n",
    "source(\"scripts/pipeline/tetraploid_timing.R\")\n",
    "tetra_timing(\"tko_tetra_wt10\")"
   ]
  },
  {
   "cell_type": "code",
   "execution_count": null,
   "id": "c9fd2d99",
   "metadata": {},
   "outputs": [],
   "source": []
  }
 ],
 "metadata": {
  "kernelspec": {
   "display_name": "R",
   "language": "R",
   "name": "ir353"
  },
  "language_info": {
   "codemirror_mode": "r",
   "file_extension": ".r",
   "mimetype": "text/x-r-source",
   "name": "R",
   "pygments_lexer": "r",
   "version": "4.0.5"
  }
 },
 "nbformat": 4,
 "nbformat_minor": 5
}
