{
 "cells": [
  {
   "cell_type": "code",
   "execution_count": 1,
   "id": "1972bb23",
   "metadata": {},
   "outputs": [],
   "source": [
    "setwd(\"../\")"
   ]
  },
  {
   "cell_type": "code",
   "execution_count": 8,
   "id": "d0526dde",
   "metadata": {},
   "outputs": [],
   "source": [
    "library(\"metacell\")\n",
    "library(\"tgstat\")\n",
    "library(\"tgconfig\")\n",
    "library(\"Matrix\")\n",
    "library(\"dplyr\")"
   ]
  },
  {
   "cell_type": "code",
   "execution_count": 21,
   "id": "4617e0c9",
   "metadata": {},
   "outputs": [
    {
     "name": "stderr",
     "output_type": "stream",
     "text": [
      "initializing scdb to scrna_db/\n",
      "\n"
     ]
    }
   ],
   "source": [
    "scdb_init(\"scrna_db/\",force_reinit = T)"
   ]
  },
  {
   "cell_type": "code",
   "execution_count": 4,
   "id": "fa8bed91",
   "metadata": {},
   "outputs": [],
   "source": [
    "mat = scdb_mat(\"tko_chim\")"
   ]
  },
  {
   "cell_type": "markdown",
   "id": "f5ed8cbf",
   "metadata": {},
   "source": [
    "#### Remove cells belonging to E8.5 chimera embryos. Only use chimera embryos from E7.5"
   ]
  },
  {
   "cell_type": "code",
   "execution_count": 5,
   "id": "1c40f74f",
   "metadata": {},
   "outputs": [],
   "source": [
    "e85_embryos = paste0(\"TKO29_\",c(13:19))\n",
    "ig_cells = colnames(mat@mat)[mat@cell_metadata[colnames(mat@mat),\"embryo\"] %in% e85_embryos]\n",
    "ig_cells = c(mat@ignore_cells,ig_cells)\n",
    "\n",
    "mat = scm_ignore_cells(scmat = mat,ig_cells = ig_cells)"
   ]
  },
  {
   "cell_type": "markdown",
   "id": "88ff7d4c",
   "metadata": {},
   "source": [
    "#### Remove extraembryonic ectoderm and parietal endoderm cells"
   ]
  },
  {
   "cell_type": "code",
   "execution_count": 6,
   "id": "063b0620",
   "metadata": {},
   "outputs": [],
   "source": [
    "source(\"scripts/pipeline/remove_exe_ectoderm_and_parietal_endo_cls.R\")\n",
    "mat = remove_exe_ectoderm_and_parietal_endoderm(mat_query = mat)\n",
    "scdb_add_mat(id = \"tko_chim\",mat = mat)"
   ]
  },
  {
   "cell_type": "markdown",
   "id": "90cc126a",
   "metadata": {},
   "source": [
    "#### Merge cells with the wildtype atlas"
   ]
  },
  {
   "cell_type": "code",
   "execution_count": 7,
   "id": "e7cfc4ef",
   "metadata": {},
   "outputs": [],
   "source": [
    "source(\"scripts/pipeline/merge_umi_mat_with_wt10_umi_mat.R\")\n",
    "mat_new = merge_umi_mat_with_wt10(scmat = mat)\n",
    "scdb_add_mat(id = \"tko_chim_wt10\",mat = mat_new)"
   ]
  },
  {
   "cell_type": "markdown",
   "id": "931c62e1",
   "metadata": {},
   "source": [
    "#### Generate single-cell balanced kNN-graph\n",
    "This step needs the file  \n",
    "_data/tet_tko.bad_genes.txt_"
   ]
  },
  {
   "cell_type": "code",
   "execution_count": 22,
   "id": "18c9b297",
   "metadata": {},
   "outputs": [
    {
     "name": "stderr",
     "output_type": "stream",
     "text": [
      "initializing scdb to scrna_db/\n",
      "\n",
      "will downsample the matrix, N= 2254\n",
      "\n"
     ]
    }
   ],
   "source": [
    "source(\"scripts/pipeline/gen_cgraph.R\")\n",
    "gen_cgraph(mat_nm = \"tko_chim_wt10\",force_recompute_cgraph = F)"
   ]
  },
  {
   "cell_type": "markdown",
   "id": "42f12f60",
   "metadata": {},
   "source": [
    "#### Transfer cell type annotation to chimera cells"
   ]
  },
  {
   "cell_type": "code",
   "execution_count": 19,
   "id": "b4af1163",
   "metadata": {},
   "outputs": [],
   "source": [
    "source(\"scripts/pipeline/transfer_cell_type_annotation.R\")\n",
    "transfer_color_chimera_tetraploid(mat_nm = \"tko_chim_wt10\")"
   ]
  },
  {
   "cell_type": "markdown",
   "id": "665980c5",
   "metadata": {},
   "source": [
    "#### Time chimera embryos based on their host and KO cells"
   ]
  },
  {
   "cell_type": "code",
   "execution_count": 20,
   "id": "08dcb27a",
   "metadata": {},
   "outputs": [],
   "source": [
    "source(\"scripts/pipeline/tko_chim_timing.R\")\n",
    "source(\"scripts/pipeline/transfer_time_annotation.R\")\n",
    "tko_chim_timing()\n",
    "#tko_chimera_plot_cor_time_dist_per_emb(mat_nm = \"tko_chim_wt10\")"
   ]
  },
  {
   "cell_type": "code",
   "execution_count": null,
   "id": "994b72d6",
   "metadata": {},
   "outputs": [],
   "source": []
  }
 ],
 "metadata": {
  "kernelspec": {
   "display_name": "R",
   "language": "R",
   "name": "ir353"
  },
  "language_info": {
   "codemirror_mode": "r",
   "file_extension": ".r",
   "mimetype": "text/x-r-source",
   "name": "R",
   "pygments_lexer": "r",
   "version": "4.0.5"
  }
 },
 "nbformat": 4,
 "nbformat_minor": 5
}
